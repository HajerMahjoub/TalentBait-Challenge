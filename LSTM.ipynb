{
  "nbformat": 4,
  "nbformat_minor": 0,
  "metadata": {
    "colab": {
      "name": "Classifier_using_Keras&tf.ipynb",
      "provenance": []
    },
    "kernelspec": {
      "name": "python3",
      "display_name": "Python 3"
    }
  },
  "cells": [
    {
      "cell_type": "code",
      "metadata": {
        "id": "68BD9DjRbmPz",
        "colab_type": "code",
        "colab": {}
      },
      "source": [
        "#Read the csv file from drive\n",
        "!pip install -U -q PyDrive\n",
        "from pydrive.auth import GoogleAuth\n",
        "from pydrive.drive import GoogleDrive\n",
        "from google.colab import auth\n",
        "from oauth2client.client import GoogleCredentials\n",
        "# Authenticate and create the PyDrive client.\n",
        "auth.authenticate_user()\n",
        "gauth = GoogleAuth()\n",
        "gauth.credentials = GoogleCredentials.get_application_default()\n",
        "drive = GoogleDrive(gauth)"
      ],
      "execution_count": 0,
      "outputs": []
    },
    {
      "cell_type": "code",
      "metadata": {
        "id": "EFpHBzoJfDu6",
        "colab_type": "code",
        "colab": {
          "base_uri": "https://localhost:8080/",
          "height": 34
        },
        "outputId": "c9b6430e-ee77-4de3-f88c-fa28b8c1ffce"
      },
      "source": [
        "import pandas as pd\n",
        "from tensorflow.keras.preprocessing.text import Tokenizer\n",
        "import pandas as pd\n",
        "from tensorflow.keras.preprocessing.sequence import pad_sequences\n",
        "import numpy as np\n",
        "import tensorflow as tf\n",
        "print(tf.__version__)\n",
        "from sklearn.model_selection import train_test_split\n",
        "\n",
        "# tf.enbale_eager_execution() // uncomment this code if you are using tf1 \n"
      ],
      "execution_count": 2,
      "outputs": [
        {
          "output_type": "stream",
          "text": [
            "2.2.0-rc2\n"
          ],
          "name": "stdout"
        }
      ]
    },
    {
      "cell_type": "code",
      "metadata": {
        "id": "EyC17c3Jowku",
        "colab_type": "code",
        "colab": {}
      },
      "source": [
        "\n",
        "\n",
        "#Import the data frame from the Google spreadsheet\n",
        "\n",
        "id = \"1Ot5qeB4xzG6KITURE8Q3w3RhXMaeJaib\"\n",
        "\n",
        "downloaded = drive.CreateFile({'id':id}) \n",
        "downloaded.GetContentFile('data.csv')  \n",
        "df = pd.read_csv('data.csv')\n"
      ],
      "execution_count": 0,
      "outputs": []
    },
    {
      "cell_type": "code",
      "metadata": {
        "id": "Q0Xf986upQpF",
        "colab_type": "code",
        "colab": {
          "base_uri": "https://localhost:8080/",
          "height": 68
        },
        "outputId": "7771080d-746c-4260-af05-c8a0dd2afefe"
      },
      "source": [
        "df.columns"
      ],
      "execution_count": 4,
      "outputs": [
        {
          "output_type": "execute_result",
          "data": {
            "text/plain": [
              "Index(['Unnamed: 0', 'label', 'text', 'label_none', 'label_soft', 'label_tech',\n",
              "       'label_code'],\n",
              "      dtype='object')"
            ]
          },
          "metadata": {
            "tags": []
          },
          "execution_count": 4
        }
      ]
    },
    {
      "cell_type": "code",
      "metadata": {
        "id": "_jnqx_ipbylw",
        "colab_type": "code",
        "colab": {}
      },
      "source": [
        "#split the train and the test\n",
        "train_text, test_text, train_label, test_label = train_test_split(df['text'], \n",
        "                                                    df[['label_none','label_soft','label_tech']], \n",
        "                                                    test_size=0.33, \n",
        "                                                    random_state=8)"
      ],
      "execution_count": 0,
      "outputs": []
    },
    {
      "cell_type": "code",
      "metadata": {
        "id": "FlsQrAlpwIgJ",
        "colab_type": "code",
        "colab": {
          "base_uri": "https://localhost:8080/",
          "height": 419
        },
        "outputId": "1d3ed1aa-3c5a-45cb-facd-9929165dc0c7"
      },
      "source": [
        "test_label"
      ],
      "execution_count": 6,
      "outputs": [
        {
          "output_type": "execute_result",
          "data": {
            "text/html": [
              "<div>\n",
              "<style scoped>\n",
              "    .dataframe tbody tr th:only-of-type {\n",
              "        vertical-align: middle;\n",
              "    }\n",
              "\n",
              "    .dataframe tbody tr th {\n",
              "        vertical-align: top;\n",
              "    }\n",
              "\n",
              "    .dataframe thead th {\n",
              "        text-align: right;\n",
              "    }\n",
              "</style>\n",
              "<table border=\"1\" class=\"dataframe\">\n",
              "  <thead>\n",
              "    <tr style=\"text-align: right;\">\n",
              "      <th></th>\n",
              "      <th>label_none</th>\n",
              "      <th>label_soft</th>\n",
              "      <th>label_tech</th>\n",
              "    </tr>\n",
              "  </thead>\n",
              "  <tbody>\n",
              "    <tr>\n",
              "      <th>4106</th>\n",
              "      <td>0</td>\n",
              "      <td>1</td>\n",
              "      <td>0</td>\n",
              "    </tr>\n",
              "    <tr>\n",
              "      <th>7935</th>\n",
              "      <td>0</td>\n",
              "      <td>1</td>\n",
              "      <td>0</td>\n",
              "    </tr>\n",
              "    <tr>\n",
              "      <th>7937</th>\n",
              "      <td>1</td>\n",
              "      <td>0</td>\n",
              "      <td>0</td>\n",
              "    </tr>\n",
              "    <tr>\n",
              "      <th>7456</th>\n",
              "      <td>1</td>\n",
              "      <td>0</td>\n",
              "      <td>0</td>\n",
              "    </tr>\n",
              "    <tr>\n",
              "      <th>6183</th>\n",
              "      <td>0</td>\n",
              "      <td>1</td>\n",
              "      <td>0</td>\n",
              "    </tr>\n",
              "    <tr>\n",
              "      <th>...</th>\n",
              "      <td>...</td>\n",
              "      <td>...</td>\n",
              "      <td>...</td>\n",
              "    </tr>\n",
              "    <tr>\n",
              "      <th>2340</th>\n",
              "      <td>0</td>\n",
              "      <td>1</td>\n",
              "      <td>0</td>\n",
              "    </tr>\n",
              "    <tr>\n",
              "      <th>4601</th>\n",
              "      <td>0</td>\n",
              "      <td>1</td>\n",
              "      <td>0</td>\n",
              "    </tr>\n",
              "    <tr>\n",
              "      <th>6556</th>\n",
              "      <td>0</td>\n",
              "      <td>1</td>\n",
              "      <td>0</td>\n",
              "    </tr>\n",
              "    <tr>\n",
              "      <th>3443</th>\n",
              "      <td>0</td>\n",
              "      <td>0</td>\n",
              "      <td>1</td>\n",
              "    </tr>\n",
              "    <tr>\n",
              "      <th>6500</th>\n",
              "      <td>1</td>\n",
              "      <td>0</td>\n",
              "      <td>0</td>\n",
              "    </tr>\n",
              "  </tbody>\n",
              "</table>\n",
              "<p>3383 rows × 3 columns</p>\n",
              "</div>"
            ],
            "text/plain": [
              "      label_none  label_soft  label_tech\n",
              "4106           0           1           0\n",
              "7935           0           1           0\n",
              "7937           1           0           0\n",
              "7456           1           0           0\n",
              "6183           0           1           0\n",
              "...          ...         ...         ...\n",
              "2340           0           1           0\n",
              "4601           0           1           0\n",
              "6556           0           1           0\n",
              "3443           0           0           1\n",
              "6500           1           0           0\n",
              "\n",
              "[3383 rows x 3 columns]"
            ]
          },
          "metadata": {
            "tags": []
          },
          "execution_count": 6
        }
      ]
    },
    {
      "cell_type": "code",
      "metadata": {
        "id": "o23AaOxgcgnH",
        "colab_type": "code",
        "colab": {}
      },
      "source": [
        "train_text = np.array(train_text)\n",
        "test_text = np.array(test_text)\n",
        "train_label = np.array(train_label)\n",
        "test_label = np.array(test_label)"
      ],
      "execution_count": 0,
      "outputs": []
    },
    {
      "cell_type": "code",
      "metadata": {
        "id": "pMQMB-KHsv1o",
        "colab_type": "code",
        "colab": {}
      },
      "source": [
        "vocab_size = 850\n",
        "embedding_dim = 16\n",
        "max_length = 300\n",
        "oov_tok = \"<00V>\" "
      ],
      "execution_count": 0,
      "outputs": []
    },
    {
      "cell_type": "code",
      "metadata": {
        "id": "oYfq_FN4cBTZ",
        "colab_type": "code",
        "colab": {}
      },
      "source": [
        "#Word Embedding\n",
        "\n",
        "tokenizer  = Tokenizer(num_words = vocab_size ,oov_token=oov_tok )\n",
        "tokenizer.fit_on_texts(train_text)\n",
        "#Create a dictionary\n",
        "word_index = tokenizer.word_index\n",
        "train_sequences = tokenizer.texts_to_sequences(train_text)\n",
        "train_pad =pad_sequences(train_sequences,padding='post',truncating='post',maxlen=max_length)\n",
        "test_sequences = tokenizer.texts_to_sequences(test_text)\n",
        "test_pad =pad_sequences(test_sequences,padding='post',truncating='post',maxlen=max_length)\n"
      ],
      "execution_count": 0,
      "outputs": []
    },
    {
      "cell_type": "code",
      "metadata": {
        "id": "sZ5Yb_kdcZ1A",
        "colab_type": "code",
        "colab": {}
      },
      "source": [
        "model = tf.keras.Sequential([\n",
        "                             tf.keras.layers.Embedding(vocab_size,embedding_dim,input_length=max_length),\n",
        "                             tf.keras.layers.Bidirectional(tf.keras.layers.LSTM(32)),\n",
        "                             tf.keras.layers.Dense(24,activation='relu'),\n",
        "                             tf.keras.layers.Dense(3,activation='softmax')\n",
        "])"
      ],
      "execution_count": 0,
      "outputs": []
    },
    {
      "cell_type": "code",
      "metadata": {
        "id": "kz8pyb2jclHz",
        "colab_type": "code",
        "colab": {
          "base_uri": "https://localhost:8080/",
          "height": 289
        },
        "outputId": "b6a4d8f9-2aa0-4ba6-d79e-ea82014f71d3"
      },
      "source": [
        "model.compile(loss='categorical_crossentropy', optimizer='adam', metrics=['accuracy'])\n",
        "model.summary()\n"
      ],
      "execution_count": 25,
      "outputs": [
        {
          "output_type": "stream",
          "text": [
            "Model: \"sequential_1\"\n",
            "_________________________________________________________________\n",
            "Layer (type)                 Output Shape              Param #   \n",
            "=================================================================\n",
            "embedding_2 (Embedding)      (None, 300, 16)           13600     \n",
            "_________________________________________________________________\n",
            "bidirectional (Bidirectional (None, 64)                12544     \n",
            "_________________________________________________________________\n",
            "dense_2 (Dense)              (None, 24)                1560      \n",
            "_________________________________________________________________\n",
            "dense_3 (Dense)              (None, 3)                 75        \n",
            "=================================================================\n",
            "Total params: 27,779\n",
            "Trainable params: 27,779\n",
            "Non-trainable params: 0\n",
            "_________________________________________________________________\n"
          ],
          "name": "stdout"
        }
      ]
    },
    {
      "cell_type": "code",
      "metadata": {
        "id": "GRcCn2xpdnrR",
        "colab_type": "code",
        "colab": {
          "base_uri": "https://localhost:8080/",
          "height": 1000
        },
        "outputId": "f72eacc4-58e8-49e8-efd3-a3619ba95101"
      },
      "source": [
        "num_epochs = 30\n",
        "history =model.fit(train_pad,\n",
        "         train_label,\n",
        "         epochs=num_epochs,\n",
        "         validation_data =(test_pad,test_label))"
      ],
      "execution_count": 27,
      "outputs": [
        {
          "output_type": "stream",
          "text": [
            "Epoch 1/30\n",
            "215/215 [==============================] - 42s 195ms/step - loss: 0.2852 - accuracy: 0.9145 - val_loss: 0.2419 - val_accuracy: 0.9223\n",
            "Epoch 2/30\n",
            "215/215 [==============================] - 41s 189ms/step - loss: 0.1744 - accuracy: 0.9457 - val_loss: 0.2103 - val_accuracy: 0.9347\n",
            "Epoch 3/30\n",
            "215/215 [==============================] - 41s 190ms/step - loss: 0.1476 - accuracy: 0.9547 - val_loss: 0.2214 - val_accuracy: 0.9320\n",
            "Epoch 4/30\n",
            "215/215 [==============================] - 41s 192ms/step - loss: 0.1313 - accuracy: 0.9570 - val_loss: 0.2057 - val_accuracy: 0.9382\n",
            "Epoch 5/30\n",
            "215/215 [==============================] - 41s 191ms/step - loss: 0.1207 - accuracy: 0.9585 - val_loss: 0.2224 - val_accuracy: 0.9329\n",
            "Epoch 6/30\n",
            "215/215 [==============================] - 41s 192ms/step - loss: 0.1120 - accuracy: 0.9640 - val_loss: 0.2202 - val_accuracy: 0.9317\n",
            "Epoch 7/30\n",
            "215/215 [==============================] - 41s 193ms/step - loss: 0.1047 - accuracy: 0.9662 - val_loss: 0.2220 - val_accuracy: 0.9323\n",
            "Epoch 8/30\n",
            "215/215 [==============================] - 41s 190ms/step - loss: 0.0983 - accuracy: 0.9682 - val_loss: 0.2394 - val_accuracy: 0.9323\n",
            "Epoch 9/30\n",
            "215/215 [==============================] - 41s 192ms/step - loss: 0.0945 - accuracy: 0.9700 - val_loss: 0.2282 - val_accuracy: 0.9308\n",
            "Epoch 10/30\n",
            "215/215 [==============================] - 41s 191ms/step - loss: 0.0901 - accuracy: 0.9700 - val_loss: 0.2417 - val_accuracy: 0.9314\n",
            "Epoch 11/30\n",
            "215/215 [==============================] - 41s 191ms/step - loss: 0.0853 - accuracy: 0.9717 - val_loss: 0.2549 - val_accuracy: 0.9326\n",
            "Epoch 12/30\n",
            "215/215 [==============================] - 41s 193ms/step - loss: 0.0854 - accuracy: 0.9715 - val_loss: 0.2567 - val_accuracy: 0.9320\n",
            "Epoch 13/30\n",
            "215/215 [==============================] - 41s 191ms/step - loss: 0.0829 - accuracy: 0.9731 - val_loss: 0.2707 - val_accuracy: 0.9296\n",
            "Epoch 14/30\n",
            "215/215 [==============================] - 42s 194ms/step - loss: 0.0819 - accuracy: 0.9722 - val_loss: 0.2773 - val_accuracy: 0.9296\n",
            "Epoch 15/30\n",
            "215/215 [==============================] - 41s 192ms/step - loss: 0.0813 - accuracy: 0.9732 - val_loss: 0.2855 - val_accuracy: 0.9273\n",
            "Epoch 16/30\n",
            "215/215 [==============================] - 42s 194ms/step - loss: 0.0791 - accuracy: 0.9744 - val_loss: 0.2956 - val_accuracy: 0.9205\n",
            "Epoch 17/30\n",
            "215/215 [==============================] - 41s 193ms/step - loss: 0.0776 - accuracy: 0.9748 - val_loss: 0.2952 - val_accuracy: 0.9267\n",
            "Epoch 18/30\n",
            "215/215 [==============================] - 41s 192ms/step - loss: 0.0794 - accuracy: 0.9715 - val_loss: 0.2876 - val_accuracy: 0.9276\n",
            "Epoch 19/30\n",
            "215/215 [==============================] - 42s 195ms/step - loss: 0.0744 - accuracy: 0.9761 - val_loss: 0.2965 - val_accuracy: 0.9246\n",
            "Epoch 20/30\n",
            "215/215 [==============================] - 42s 194ms/step - loss: 0.0748 - accuracy: 0.9760 - val_loss: 0.2999 - val_accuracy: 0.9246\n",
            "Epoch 21/30\n",
            "215/215 [==============================] - 41s 192ms/step - loss: 0.0689 - accuracy: 0.9770 - val_loss: 0.3081 - val_accuracy: 0.9211\n",
            "Epoch 22/30\n",
            "215/215 [==============================] - 42s 194ms/step - loss: 0.0662 - accuracy: 0.9780 - val_loss: 0.3286 - val_accuracy: 0.9172\n",
            "Epoch 23/30\n",
            "215/215 [==============================] - 41s 192ms/step - loss: 0.0663 - accuracy: 0.9795 - val_loss: 0.3249 - val_accuracy: 0.9187\n",
            "Epoch 24/30\n",
            "215/215 [==============================] - 41s 193ms/step - loss: 0.0653 - accuracy: 0.9790 - val_loss: 0.3474 - val_accuracy: 0.9243\n",
            "Epoch 25/30\n",
            "215/215 [==============================] - 41s 191ms/step - loss: 0.0660 - accuracy: 0.9774 - val_loss: 0.3513 - val_accuracy: 0.9220\n",
            "Epoch 26/30\n",
            "215/215 [==============================] - 41s 190ms/step - loss: 0.0607 - accuracy: 0.9803 - val_loss: 0.3557 - val_accuracy: 0.9223\n",
            "Epoch 27/30\n",
            "215/215 [==============================] - 41s 190ms/step - loss: 0.0659 - accuracy: 0.9786 - val_loss: 0.3421 - val_accuracy: 0.9252\n",
            "Epoch 28/30\n",
            "215/215 [==============================] - 41s 191ms/step - loss: 0.0676 - accuracy: 0.9784 - val_loss: 0.3397 - val_accuracy: 0.9220\n",
            "Epoch 29/30\n",
            "215/215 [==============================] - 41s 190ms/step - loss: 0.0602 - accuracy: 0.9800 - val_loss: 0.3505 - val_accuracy: 0.9214\n",
            "Epoch 30/30\n",
            "215/215 [==============================] - 41s 191ms/step - loss: 0.0584 - accuracy: 0.9815 - val_loss: 0.3546 - val_accuracy: 0.9172\n"
          ],
          "name": "stdout"
        }
      ]
    },
    {
      "cell_type": "code",
      "metadata": {
        "id": "kbswV_4Y4HoW",
        "colab_type": "code",
        "colab": {
          "base_uri": "https://localhost:8080/",
          "height": 34
        },
        "outputId": "c4e9304d-d331-4e90-f2eb-c6ab436ecf36"
      },
      "source": [
        "history.history.keys()"
      ],
      "execution_count": 28,
      "outputs": [
        {
          "output_type": "execute_result",
          "data": {
            "text/plain": [
              "dict_keys(['loss', 'accuracy', 'val_loss', 'val_accuracy'])"
            ]
          },
          "metadata": {
            "tags": []
          },
          "execution_count": 28
        }
      ]
    },
    {
      "cell_type": "code",
      "metadata": {
        "id": "LiB79JY13KT6",
        "colab_type": "code",
        "colab": {
          "base_uri": "https://localhost:8080/",
          "height": 541
        },
        "outputId": "d101c1bf-0c4e-447e-fd9b-ffa9a32af818"
      },
      "source": [
        "import matplotlib.pyplot as plt\n",
        "def plot_graphs(history, string):\n",
        "  plt.plot(history.history[string])\n",
        "  plt.plot(history.history['val_'+string])\n",
        "  plt.xlabel(\"Epochs\")\n",
        "  plt.ylabel(string)\n",
        "  plt.legend([string, 'val_'+string])\n",
        "  plt.show()\n",
        "plot_graphs(history,\"accuracy\")\n",
        "plot_graphs(history,\"loss\")"
      ],
      "execution_count": 29,
      "outputs": [
        {
          "output_type": "display_data",
          "data": {
            "image/png": "[encoded data removed]",
            "text/plain": [
              "<Figure size 432x288 with 1 Axes>"
            ]
          },
          "metadata": {
            "tags": []
          }
        },
        {
          "output_type": "display_data",
          "data": {
            "image/png": "[encoded data removed]",
            "text/plain": [
              "<Figure size 432x288 with 1 Axes>"
            ]
          },
          "metadata": {
            "tags": []
          }
        }
      ]
    },
    {
      "cell_type": "code",
      "metadata": {
        "id": "yph1JVjEfZCo",
        "colab_type": "code",
        "colab": {
          "base_uri": "https://localhost:8080/",
          "height": 34
        },
        "outputId": "4fcdd869-0d55-47b1-ac87-1927fadcaa84"
      },
      "source": [
        "#Visualization and intepretation for the result \n",
        "e = model.layers[0]\n",
        "weights = e.get_weights()[0]\n",
        "print(weights.shape)"
      ],
      "execution_count": 30,
      "outputs": [
        {
          "output_type": "stream",
          "text": [
            "(850, 16)\n"
          ],
          "name": "stdout"
        }
      ]
    },
    {
      "cell_type": "code",
      "metadata": {
        "id": "fuVD4Y91xYWe",
        "colab_type": "code",
        "colab": {}
      },
      "source": [
        "reverse_word_index = dict([(value,key) for (key,value)in word_index.items()])\n",
        "import io\n",
        "out_v = io.open('vecs.tsv','w',encoding='utf-8')\n",
        "out_m = io.open('meta.tsv','w',encoding='utf-8')"
      ],
      "execution_count": 0,
      "outputs": []
    },
    {
      "cell_type": "code",
      "metadata": {
        "id": "b88_iFfUx80i",
        "colab_type": "code",
        "colab": {
          "base_uri": "https://localhost:8080/",
          "height": 34
        },
        "outputId": "fc5fc20e-c344-4a69-ad9b-fcd804f9167b"
      },
      "source": [
        "for word_num in range(1,vocab_size):\n",
        "  word = reverse_word_index[word_num]\n",
        "  embeddings = weights[word_num]\n",
        "  out_m.write(word+\"\\n\")\n",
        "  out_v.write('\\t'.join([str(x) for x in embeddings])+\"\\n\")\n",
        "out_v.close()\n",
        "out_m.close"
      ],
      "execution_count": 32,
      "outputs": [
        {
          "output_type": "execute_result",
          "data": {
            "text/plain": [
              "<function TextIOWrapper.close>"
            ]
          },
          "metadata": {
            "tags": []
          },
          "execution_count": 32
        }
      ]
    },
    {
      "cell_type": "code",
      "metadata": {
        "id": "twUnvordyxXh",
        "colab_type": "code",
        "colab": {}
      },
      "source": [
        "try :\n",
        "  from google.colab import files \n",
        "except ImportError :\n",
        "  pass\n",
        "else :\n",
        "  files.download('vecs.tsv')\n",
        "  files.download('meta.tsv')\n",
        "#import the file for tensorflow projector website"
      ],
      "execution_count": 0,
      "outputs": []
    },
    {
      "cell_type": "code",
      "metadata": {
        "id": "PPOew5Tk09pE",
        "colab_type": "code",
        "colab": {}
      },
      "source": [
        "def decode_text(text):\n",
        "  return ' '.join([reverse_word_index.get(i, '?') for i in text])"
      ],
      "execution_count": 0,
      "outputs": []
    },
    {
      "cell_type": "code",
      "metadata": {
        "id": "xXm1LTS-znmE",
        "colab_type": "code",
        "colab": {
          "base_uri": "https://localhost:8080/",
          "height": 34
        },
        "outputId": "bd10fc4a-ffc2-4534-8637-3e9e6f82d36b"
      },
      "source": [
        "reverse_word_index[40]"
      ],
      "execution_count": 34,
      "outputs": [
        {
          "output_type": "execute_result",
          "data": {
            "text/plain": [
              "'oder'"
            ]
          },
          "metadata": {
            "tags": []
          },
          "execution_count": 34
        }
      ]
    },
    {
      "cell_type": "code",
      "metadata": {
        "id": "2w5y_Lz22y-z",
        "colab_type": "code",
        "colab": {
          "base_uri": "https://localhost:8080/",
          "height": 34
        },
        "outputId": "cdd8b10e-b2f5-441d-b290-2fdfaee17c1b"
      },
      "source": [
        "decode_text([40,300,201])"
      ],
      "execution_count": 35,
      "outputs": [
        {
          "output_type": "execute_result",
          "data": {
            "text/plain": [
              "'oder 00 the'"
            ]
          },
          "metadata": {
            "tags": []
          },
          "execution_count": 35
        }
      ]
    },
    {
      "cell_type": "code",
      "metadata": {
        "id": "SjZuqS_t7pEw",
        "colab_type": "code",
        "colab": {}
      },
      "source": [
        "def encode_text(text):\n",
        "  sequences = tokenizer.texts_to_sequences(text)\n",
        "  pad =pad_sequences(sequences,padding='post',truncating='post',maxlen=max_length)\n",
        "  return pad"
      ],
      "execution_count": 0,
      "outputs": []
    },
    {
      "cell_type": "code",
      "metadata": {
        "id": "2486DVJg5MLk",
        "colab_type": "code",
        "colab": {}
      },
      "source": [
        "def predict():\n",
        "  text_pred=[]\n",
        "  pred= input (\"Enter text  :\")\n",
        "  text_pred.append(pred) \n",
        "  if text_pred != \"\" :\n",
        "    text_pred = encode_text(text_pred)\n",
        "    prediction = model.predict(text_pred)\n",
        "    print(prediction[0])\n",
        "    if np.argmax(prediction[0]) == 2 :\n",
        "      print( \"text about the technical skills\")\n",
        "    elif np.argmax(prediction[0])== 1:\n",
        "      print(\"text about the soft skills\")\n",
        "    else :\n",
        "      print(\"text classify as none  \")"
      ],
      "execution_count": 0,
      "outputs": []
    },
    {
      "cell_type": "code",
      "metadata": {
        "id": "BBhdUaw78lQa",
        "colab_type": "code",
        "colab": {
          "base_uri": "https://localhost:8080/",
          "height": 68
        },
        "outputId": "5b68eaf0-b829-473f-a990-4a5c7309e847"
      },
      "source": [
        "predict()"
      ],
      "execution_count": 38,
      "outputs": [
        {
          "output_type": "stream",
          "text": [
            "Enter text  :soziale Kompetenzen \n",
            "[5.3589628e-04 9.8617327e-01 1.3290872e-02]\n",
            "text about the soft skills\n"
          ],
          "name": "stdout"
        }
      ]
    },
    {
      "cell_type": "code",
      "metadata": {
        "id": "bQKXwd3l8vs_",
        "colab_type": "code",
        "colab": {}
      },
      "source": [
        ""
      ],
      "execution_count": 0,
      "outputs": []
    }
  ]
}
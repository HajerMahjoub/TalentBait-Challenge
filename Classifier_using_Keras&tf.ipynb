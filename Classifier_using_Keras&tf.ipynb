{
  "nbformat": 4,
  "nbformat_minor": 0,
  "metadata": {
    "colab": {
      "name": "Classifier_using_Keras&tf.ipynb",
      "provenance": []
    },
    "kernelspec": {
      "name": "python3",
      "display_name": "Python 3"
    }
  },
  "cells": [
    {
      "cell_type": "code",
      "metadata": {
        "id": "68BD9DjRbmPz",
        "colab_type": "code",
        "colab": {}
      },
      "source": [
        "#Read the csv file from drive\n",
        "!pip install -U -q PyDrive\n",
        "from pydrive.auth import GoogleAuth\n",
        "from pydrive.drive import GoogleDrive\n",
        "from google.colab import auth\n",
        "from oauth2client.client import GoogleCredentials\n",
        "# Authenticate and create the PyDrive client.\n",
        "auth.authenticate_user()\n",
        "gauth = GoogleAuth()\n",
        "gauth.credentials = GoogleCredentials.get_application_default()\n",
        "drive = GoogleDrive(gauth)"
      ],
      "execution_count": 0,
      "outputs": []
    },
    {
      "cell_type": "code",
      "metadata": {
        "id": "EFpHBzoJfDu6",
        "colab_type": "code",
        "colab": {
          "base_uri": "https://localhost:8080/",
          "height": 34
        },
        "outputId": "c9b6430e-ee77-4de3-f88c-fa28b8c1ffce"
      },
      "source": [
        "import pandas as pd\n",
        "from tensorflow.keras.preprocessing.text import Tokenizer\n",
        "import pandas as pd\n",
        "from tensorflow.keras.preprocessing.sequence import pad_sequences\n",
        "import numpy as np\n",
        "import tensorflow as tf\n",
        "print(tf.__version__)\n",
        "from sklearn.model_selection import train_test_split\n",
        "\n",
        "# tf.enbale_eager_execution() // uncomment this code if you are using tf1 \n"
      ],
      "execution_count": 2,
      "outputs": [
        {
          "output_type": "stream",
          "text": [
            "2.2.0-rc2\n"
          ],
          "name": "stdout"
        }
      ]
    },
    {
      "cell_type": "code",
      "metadata": {
        "id": "EyC17c3Jowku",
        "colab_type": "code",
        "colab": {}
      },
      "source": [
        "\n",
        "\n",
        "#Import the data frame from the Google spreadsheet\n",
        "\n",
        "id = \"1Ot5qeB4xzG6KITURE8Q3w3RhXMaeJaib\"\n",
        "\n",
        "downloaded = drive.CreateFile({'id':id}) \n",
        "downloaded.GetContentFile('data.csv')  \n",
        "df = pd.read_csv('data.csv')\n"
      ],
      "execution_count": 0,
      "outputs": []
    },
    {
      "cell_type": "code",
      "metadata": {
        "id": "Q0Xf986upQpF",
        "colab_type": "code",
        "colab": {
          "base_uri": "https://localhost:8080/",
          "height": 68
        },
        "outputId": "7771080d-746c-4260-af05-c8a0dd2afefe"
      },
      "source": [
        "df.columns"
      ],
      "execution_count": 4,
      "outputs": [
        {
          "output_type": "execute_result",
          "data": {
            "text/plain": [
              "Index(['Unnamed: 0', 'label', 'text', 'label_none', 'label_soft', 'label_tech',\n",
              "       'label_code'],\n",
              "      dtype='object')"
            ]
          },
          "metadata": {
            "tags": []
          },
          "execution_count": 4
        }
      ]
    },
    {
      "cell_type": "code",
      "metadata": {
        "id": "_jnqx_ipbylw",
        "colab_type": "code",
        "colab": {}
      },
      "source": [
        "#split the train and the test\n",
        "train_text, test_text, train_label, test_label = train_test_split(df['text'], \n",
        "                                                    df[['label_none','label_soft','label_tech']], \n",
        "                                                    test_size=0.33, \n",
        "                                                    random_state=8)"
      ],
      "execution_count": 0,
      "outputs": []
    },
    {
      "cell_type": "code",
      "metadata": {
        "id": "FlsQrAlpwIgJ",
        "colab_type": "code",
        "colab": {
          "base_uri": "https://localhost:8080/",
          "height": 419
        },
        "outputId": "1d3ed1aa-3c5a-45cb-facd-9929165dc0c7"
      },
      "source": [
        "test_label"
      ],
      "execution_count": 6,
      "outputs": [
        {
          "output_type": "execute_result",
          "data": {
            "text/html": [
              "<div>\n",
              "<style scoped>\n",
              "    .dataframe tbody tr th:only-of-type {\n",
              "        vertical-align: middle;\n",
              "    }\n",
              "\n",
              "    .dataframe tbody tr th {\n",
              "        vertical-align: top;\n",
              "    }\n",
              "\n",
              "    .dataframe thead th {\n",
              "        text-align: right;\n",
              "    }\n",
              "</style>\n",
              "<table border=\"1\" class=\"dataframe\">\n",
              "  <thead>\n",
              "    <tr style=\"text-align: right;\">\n",
              "      <th></th>\n",
              "      <th>label_none</th>\n",
              "      <th>label_soft</th>\n",
              "      <th>label_tech</th>\n",
              "    </tr>\n",
              "  </thead>\n",
              "  <tbody>\n",
              "    <tr>\n",
              "      <th>4106</th>\n",
              "      <td>0</td>\n",
              "      <td>1</td>\n",
              "      <td>0</td>\n",
              "    </tr>\n",
              "    <tr>\n",
              "      <th>7935</th>\n",
              "      <td>0</td>\n",
              "      <td>1</td>\n",
              "      <td>0</td>\n",
              "    </tr>\n",
              "    <tr>\n",
              "      <th>7937</th>\n",
              "      <td>1</td>\n",
              "      <td>0</td>\n",
              "      <td>0</td>\n",
              "    </tr>\n",
              "    <tr>\n",
              "      <th>7456</th>\n",
              "      <td>1</td>\n",
              "      <td>0</td>\n",
              "      <td>0</td>\n",
              "    </tr>\n",
              "    <tr>\n",
              "      <th>6183</th>\n",
              "      <td>0</td>\n",
              "      <td>1</td>\n",
              "      <td>0</td>\n",
              "    </tr>\n",
              "    <tr>\n",
              "      <th>...</th>\n",
              "      <td>...</td>\n",
              "      <td>...</td>\n",
              "      <td>...</td>\n",
              "    </tr>\n",
              "    <tr>\n",
              "      <th>2340</th>\n",
              "      <td>0</td>\n",
              "      <td>1</td>\n",
              "      <td>0</td>\n",
              "    </tr>\n",
              "    <tr>\n",
              "      <th>4601</th>\n",
              "      <td>0</td>\n",
              "      <td>1</td>\n",
              "      <td>0</td>\n",
              "    </tr>\n",
              "    <tr>\n",
              "      <th>6556</th>\n",
              "      <td>0</td>\n",
              "      <td>1</td>\n",
              "      <td>0</td>\n",
              "    </tr>\n",
              "    <tr>\n",
              "      <th>3443</th>\n",
              "      <td>0</td>\n",
              "      <td>0</td>\n",
              "      <td>1</td>\n",
              "    </tr>\n",
              "    <tr>\n",
              "      <th>6500</th>\n",
              "      <td>1</td>\n",
              "      <td>0</td>\n",
              "      <td>0</td>\n",
              "    </tr>\n",
              "  </tbody>\n",
              "</table>\n",
              "<p>3383 rows × 3 columns</p>\n",
              "</div>"
            ],
            "text/plain": [
              "      label_none  label_soft  label_tech\n",
              "4106           0           1           0\n",
              "7935           0           1           0\n",
              "7937           1           0           0\n",
              "7456           1           0           0\n",
              "6183           0           1           0\n",
              "...          ...         ...         ...\n",
              "2340           0           1           0\n",
              "4601           0           1           0\n",
              "6556           0           1           0\n",
              "3443           0           0           1\n",
              "6500           1           0           0\n",
              "\n",
              "[3383 rows x 3 columns]"
            ]
          },
          "metadata": {
            "tags": []
          },
          "execution_count": 6
        }
      ]
    },
    {
      "cell_type": "code",
      "metadata": {
        "id": "o23AaOxgcgnH",
        "colab_type": "code",
        "colab": {}
      },
      "source": [
        "train_text = np.array(train_text)\n",
        "test_text = np.array(test_text)\n",
        "train_label = np.array(train_label)\n",
        "test_label = np.array(test_label)"
      ],
      "execution_count": 0,
      "outputs": []
    },
    {
      "cell_type": "code",
      "metadata": {
        "id": "pMQMB-KHsv1o",
        "colab_type": "code",
        "colab": {}
      },
      "source": [
        "vocab_size = 850\n",
        "embedding_dim = 16\n",
        "max_length = 300\n",
        "oov_tok = \"<00V>\" "
      ],
      "execution_count": 0,
      "outputs": []
    },
    {
      "cell_type": "code",
      "metadata": {
        "id": "oYfq_FN4cBTZ",
        "colab_type": "code",
        "colab": {}
      },
      "source": [
        "#Word Embedding\n",
        "\n",
        "tokenizer  = Tokenizer(num_words = vocab_size ,oov_token=oov_tok )\n",
        "tokenizer.fit_on_texts(train_text)\n",
        "#Create a dictionary\n",
        "word_index = tokenizer.word_index\n",
        "train_sequences = tokenizer.texts_to_sequences(train_text)\n",
        "train_pad =pad_sequences(train_sequences,padding='post',truncating='post',maxlen=max_length)\n",
        "test_sequences = tokenizer.texts_to_sequences(test_text)\n",
        "test_pad =pad_sequences(test_sequences,padding='post',truncating='post',maxlen=max_length)\n"
      ],
      "execution_count": 0,
      "outputs": []
    },
    {
      "cell_type": "code",
      "metadata": {
        "id": "sZ5Yb_kdcZ1A",
        "colab_type": "code",
        "colab": {}
      },
      "source": [
        "model = tf.keras.Sequential([\n",
        "                             tf.keras.layers.Embedding(vocab_size,embedding_dim,input_length=max_length),\n",
        "                             tf.keras.layers.Flatten(),\n",
        "                             tf.keras.layers.Dense(6,activation='relu'),\n",
        "                             tf.keras.layers.Dense(3,activation='softmax')\n",
        "])"
      ],
      "execution_count": 0,
      "outputs": []
    },
    {
      "cell_type": "code",
      "metadata": {
        "id": "kz8pyb2jclHz",
        "colab_type": "code",
        "colab": {
          "base_uri": "https://localhost:8080/",
          "height": 289
        },
        "outputId": "3296a714-7adb-46a5-c398-04c47e3483c6"
      },
      "source": [
        "model.compile(loss='categorical_crossentropy', optimizer='adam', metrics=['accuracy'])\n",
        "model.summary()\n"
      ],
      "execution_count": 11,
      "outputs": [
        {
          "output_type": "stream",
          "text": [
            "Model: \"sequential\"\n",
            "_________________________________________________________________\n",
            "Layer (type)                 Output Shape              Param #   \n",
            "=================================================================\n",
            "embedding (Embedding)        (None, 300, 16)           13600     \n",
            "_________________________________________________________________\n",
            "flatten (Flatten)            (None, 4800)              0         \n",
            "_________________________________________________________________\n",
            "dense (Dense)                (None, 6)                 28806     \n",
            "_________________________________________________________________\n",
            "dense_1 (Dense)              (None, 3)                 21        \n",
            "=================================================================\n",
            "Total params: 42,427\n",
            "Trainable params: 42,427\n",
            "Non-trainable params: 0\n",
            "_________________________________________________________________\n"
          ],
          "name": "stdout"
        }
      ]
    },
    {
      "cell_type": "code",
      "metadata": {
        "id": "GRcCn2xpdnrR",
        "colab_type": "code",
        "colab": {
          "base_uri": "https://localhost:8080/",
          "height": 1000
        },
        "outputId": "a925d62f-719a-4ff4-fe62-00123b10d943"
      },
      "source": [
        "num_epochs = 50\n",
        "history =model.fit(train_pad,\n",
        "         train_label,\n",
        "         epochs=num_epochs,\n",
        "         validation_data =(test_pad,test_label))"
      ],
      "execution_count": 12,
      "outputs": [
        {
          "output_type": "stream",
          "text": [
            "Epoch 1/50\n",
            "215/215 [==============================] - 1s 4ms/step - loss: 0.9112 - accuracy: 0.5636 - val_loss: 0.7607 - val_accuracy: 0.6784\n",
            "Epoch 2/50\n",
            "215/215 [==============================] - 1s 3ms/step - loss: 0.6782 - accuracy: 0.7287 - val_loss: 0.6512 - val_accuracy: 0.7346\n",
            "Epoch 3/50\n",
            "215/215 [==============================] - 1s 3ms/step - loss: 0.6014 - accuracy: 0.7491 - val_loss: 0.6044 - val_accuracy: 0.7331\n",
            "Epoch 4/50\n",
            "215/215 [==============================] - 1s 3ms/step - loss: 0.5549 - accuracy: 0.7569 - val_loss: 0.5753 - val_accuracy: 0.7399\n",
            "Epoch 5/50\n",
            "215/215 [==============================] - 1s 3ms/step - loss: 0.5263 - accuracy: 0.7620 - val_loss: 0.5521 - val_accuracy: 0.7440\n",
            "Epoch 6/50\n",
            "215/215 [==============================] - 1s 3ms/step - loss: 0.5039 - accuracy: 0.7655 - val_loss: 0.5362 - val_accuracy: 0.7479\n",
            "Epoch 7/50\n",
            "215/215 [==============================] - 1s 3ms/step - loss: 0.4877 - accuracy: 0.7662 - val_loss: 0.5271 - val_accuracy: 0.7449\n",
            "Epoch 8/50\n",
            "215/215 [==============================] - 1s 3ms/step - loss: 0.4757 - accuracy: 0.7687 - val_loss: 0.5199 - val_accuracy: 0.7464\n",
            "Epoch 9/50\n",
            "215/215 [==============================] - 1s 3ms/step - loss: 0.4659 - accuracy: 0.7686 - val_loss: 0.5154 - val_accuracy: 0.7482\n",
            "Epoch 10/50\n",
            "215/215 [==============================] - 1s 3ms/step - loss: 0.4574 - accuracy: 0.7692 - val_loss: 0.5167 - val_accuracy: 0.7455\n",
            "Epoch 11/50\n",
            "215/215 [==============================] - 1s 3ms/step - loss: 0.4501 - accuracy: 0.7708 - val_loss: 0.5090 - val_accuracy: 0.7470\n",
            "Epoch 12/50\n",
            "215/215 [==============================] - 1s 3ms/step - loss: 0.4452 - accuracy: 0.7721 - val_loss: 0.5080 - val_accuracy: 0.7467\n",
            "Epoch 13/50\n",
            "215/215 [==============================] - 1s 3ms/step - loss: 0.4402 - accuracy: 0.7712 - val_loss: 0.5137 - val_accuracy: 0.7458\n",
            "Epoch 14/50\n",
            "215/215 [==============================] - 1s 3ms/step - loss: 0.4356 - accuracy: 0.7722 - val_loss: 0.5071 - val_accuracy: 0.7467\n",
            "Epoch 15/50\n",
            "215/215 [==============================] - 1s 3ms/step - loss: 0.4325 - accuracy: 0.7732 - val_loss: 0.5089 - val_accuracy: 0.7484\n",
            "Epoch 16/50\n",
            "215/215 [==============================] - 1s 4ms/step - loss: 0.4295 - accuracy: 0.7725 - val_loss: 0.5103 - val_accuracy: 0.7484\n",
            "Epoch 17/50\n",
            "215/215 [==============================] - 1s 4ms/step - loss: 0.4273 - accuracy: 0.7734 - val_loss: 0.5292 - val_accuracy: 0.7443\n",
            "Epoch 18/50\n",
            "215/215 [==============================] - 1s 3ms/step - loss: 0.4246 - accuracy: 0.7731 - val_loss: 0.5114 - val_accuracy: 0.7490\n",
            "Epoch 19/50\n",
            "215/215 [==============================] - 1s 3ms/step - loss: 0.4220 - accuracy: 0.7741 - val_loss: 0.5164 - val_accuracy: 0.7458\n",
            "Epoch 20/50\n",
            "215/215 [==============================] - 1s 3ms/step - loss: 0.4202 - accuracy: 0.7734 - val_loss: 0.5117 - val_accuracy: 0.7458\n",
            "Epoch 21/50\n",
            "215/215 [==============================] - 1s 3ms/step - loss: 0.4174 - accuracy: 0.7740 - val_loss: 0.5143 - val_accuracy: 0.7482\n",
            "Epoch 22/50\n",
            "215/215 [==============================] - 1s 3ms/step - loss: 0.4167 - accuracy: 0.7754 - val_loss: 0.5162 - val_accuracy: 0.7443\n",
            "Epoch 23/50\n",
            "215/215 [==============================] - 1s 3ms/step - loss: 0.4147 - accuracy: 0.7780 - val_loss: 0.5306 - val_accuracy: 0.7487\n",
            "Epoch 24/50\n",
            "215/215 [==============================] - 1s 3ms/step - loss: 0.4136 - accuracy: 0.7805 - val_loss: 0.5239 - val_accuracy: 0.7473\n",
            "Epoch 25/50\n",
            "215/215 [==============================] - 1s 3ms/step - loss: 0.4117 - accuracy: 0.7850 - val_loss: 0.5176 - val_accuracy: 0.7484\n",
            "Epoch 26/50\n",
            "215/215 [==============================] - 1s 3ms/step - loss: 0.4106 - accuracy: 0.7897 - val_loss: 0.5257 - val_accuracy: 0.7482\n",
            "Epoch 27/50\n",
            "215/215 [==============================] - 1s 3ms/step - loss: 0.4088 - accuracy: 0.7929 - val_loss: 0.5341 - val_accuracy: 0.7440\n",
            "Epoch 28/50\n",
            "215/215 [==============================] - 1s 3ms/step - loss: 0.4077 - accuracy: 0.7980 - val_loss: 0.5235 - val_accuracy: 0.7443\n",
            "Epoch 29/50\n",
            "215/215 [==============================] - 1s 3ms/step - loss: 0.4060 - accuracy: 0.7983 - val_loss: 0.5348 - val_accuracy: 0.7479\n",
            "Epoch 30/50\n",
            "215/215 [==============================] - 1s 3ms/step - loss: 0.2608 - accuracy: 0.8868 - val_loss: 0.2920 - val_accuracy: 0.9098\n",
            "Epoch 31/50\n",
            "215/215 [==============================] - 1s 3ms/step - loss: 0.1219 - accuracy: 0.9607 - val_loss: 0.2654 - val_accuracy: 0.9267\n",
            "Epoch 32/50\n",
            "215/215 [==============================] - 1s 3ms/step - loss: 0.1003 - accuracy: 0.9701 - val_loss: 0.2652 - val_accuracy: 0.9255\n",
            "Epoch 33/50\n",
            "215/215 [==============================] - 1s 3ms/step - loss: 0.0904 - accuracy: 0.9745 - val_loss: 0.2581 - val_accuracy: 0.9291\n",
            "Epoch 34/50\n",
            "215/215 [==============================] - 1s 3ms/step - loss: 0.0835 - accuracy: 0.9747 - val_loss: 0.2572 - val_accuracy: 0.9323\n",
            "Epoch 35/50\n",
            "215/215 [==============================] - 1s 3ms/step - loss: 0.0772 - accuracy: 0.9789 - val_loss: 0.2698 - val_accuracy: 0.9335\n",
            "Epoch 36/50\n",
            "215/215 [==============================] - 1s 3ms/step - loss: 0.0741 - accuracy: 0.9790 - val_loss: 0.2589 - val_accuracy: 0.9338\n",
            "Epoch 37/50\n",
            "215/215 [==============================] - 1s 3ms/step - loss: 0.0707 - accuracy: 0.9800 - val_loss: 0.2632 - val_accuracy: 0.9353\n",
            "Epoch 38/50\n",
            "215/215 [==============================] - 1s 3ms/step - loss: 0.0679 - accuracy: 0.9808 - val_loss: 0.2650 - val_accuracy: 0.9335\n",
            "Epoch 39/50\n",
            "215/215 [==============================] - 1s 3ms/step - loss: 0.0650 - accuracy: 0.9819 - val_loss: 0.2693 - val_accuracy: 0.9326\n",
            "Epoch 40/50\n",
            "215/215 [==============================] - 1s 3ms/step - loss: 0.0623 - accuracy: 0.9822 - val_loss: 0.2853 - val_accuracy: 0.9329\n",
            "Epoch 41/50\n",
            "215/215 [==============================] - 1s 3ms/step - loss: 0.0610 - accuracy: 0.9821 - val_loss: 0.2852 - val_accuracy: 0.9350\n",
            "Epoch 42/50\n",
            "215/215 [==============================] - 1s 3ms/step - loss: 0.0587 - accuracy: 0.9830 - val_loss: 0.2800 - val_accuracy: 0.9329\n",
            "Epoch 43/50\n",
            "215/215 [==============================] - 1s 3ms/step - loss: 0.0564 - accuracy: 0.9828 - val_loss: 0.2993 - val_accuracy: 0.9326\n",
            "Epoch 44/50\n",
            "215/215 [==============================] - 1s 3ms/step - loss: 0.0540 - accuracy: 0.9840 - val_loss: 0.2921 - val_accuracy: 0.9335\n",
            "Epoch 45/50\n",
            "215/215 [==============================] - 1s 3ms/step - loss: 0.0534 - accuracy: 0.9840 - val_loss: 0.3128 - val_accuracy: 0.9332\n",
            "Epoch 46/50\n",
            "215/215 [==============================] - 1s 3ms/step - loss: 0.0527 - accuracy: 0.9827 - val_loss: 0.3136 - val_accuracy: 0.9320\n",
            "Epoch 47/50\n",
            "215/215 [==============================] - 1s 3ms/step - loss: 0.0507 - accuracy: 0.9844 - val_loss: 0.3115 - val_accuracy: 0.9338\n",
            "Epoch 48/50\n",
            "215/215 [==============================] - 1s 3ms/step - loss: 0.0482 - accuracy: 0.9847 - val_loss: 0.3178 - val_accuracy: 0.9314\n",
            "Epoch 49/50\n",
            "215/215 [==============================] - 1s 3ms/step - loss: 0.0477 - accuracy: 0.9844 - val_loss: 0.3402 - val_accuracy: 0.9261\n",
            "Epoch 50/50\n",
            "215/215 [==============================] - 1s 3ms/step - loss: 0.0466 - accuracy: 0.9843 - val_loss: 0.3399 - val_accuracy: 0.9264\n"
          ],
          "name": "stdout"
        }
      ]
    },
    {
      "cell_type": "code",
      "metadata": {
        "id": "kbswV_4Y4HoW",
        "colab_type": "code",
        "colab": {
          "base_uri": "https://localhost:8080/",
          "height": 34
        },
        "outputId": "4ca7640c-944f-4930-8227-1c00874a7e83"
      },
      "source": [
        "history.history.keys()"
      ],
      "execution_count": 13,
      "outputs": [
        {
          "output_type": "execute_result",
          "data": {
            "text/plain": [
              "dict_keys(['loss', 'accuracy', 'val_loss', 'val_accuracy'])"
            ]
          },
          "metadata": {
            "tags": []
          },
          "execution_count": 13
        }
      ]
    },
    {
      "cell_type": "code",
      "metadata": {
        "id": "LiB79JY13KT6",
        "colab_type": "code",
        "colab": {
          "base_uri": "https://localhost:8080/",
          "height": 543
        },
        "outputId": "806af49f-c48a-463c-e6e7-211112c1297c"
      },
      "source": [
        "import matplotlib.pyplot as plt\n",
        "def plot_graphs(history, string):\n",
        "  plt.plot(history.history[string])\n",
        "  plt.plot(history.history['val_'+string])\n",
        "  plt.xlabel(\"Epochs\")\n",
        "  plt.ylabel(string)\n",
        "  plt.legend([string, 'val_'+string])\n",
        "  plt.show()\n",
        "plot_graphs(history,\"accuracy\")\n",
        "plot_graphs(history,\"loss\")"
      ],
      "execution_count": 14,
      "outputs": [
        {
          "output_type": "display_data",
          "data": {
            "image/png": "[encoded data removed]",
            "text/plain": [
              "<Figure size 432x288 with 1 Axes>"
            ]
          },
          "metadata": {
            "tags": []
          }
        },
        {
          "output_type": "display_data",
          "data": {
            "image/png": "[encoded data removed]",
            "text/plain": [
              "<Figure size 432x288 with 1 Axes>"
            ]
          },
          "metadata": {
            "tags": []
          }
        }
      ]
    },
    {
      "cell_type": "code",
      "metadata": {
        "id": "yph1JVjEfZCo",
        "colab_type": "code",
        "colab": {
          "base_uri": "https://localhost:8080/",
          "height": 34
        },
        "outputId": "20e3df82-2087-4aa2-9dba-89ff1b1b2a87"
      },
      "source": [
        "#Visualization and intepretation for the result \n",
        "e = model.layers[0]\n",
        "weights = e.get_weights()[0]\n",
        "print(weights.shape)"
      ],
      "execution_count": 15,
      "outputs": [
        {
          "output_type": "stream",
          "text": [
            "(850, 16)\n"
          ],
          "name": "stdout"
        }
      ]
    },
    {
      "cell_type": "code",
      "metadata": {
        "id": "fuVD4Y91xYWe",
        "colab_type": "code",
        "colab": {}
      },
      "source": [
        "reverse_word_index = dict([(value,key) for (key,value)in word_index.items()])\n",
        "import io\n",
        "out_v = io.open('vecs.tsv','w',encoding='utf-8')\n",
        "out_m = io.open('meta.tsv','w',encoding='utf-8')"
      ],
      "execution_count": 0,
      "outputs": []
    },
    {
      "cell_type": "code",
      "metadata": {
        "id": "b88_iFfUx80i",
        "colab_type": "code",
        "colab": {
          "base_uri": "https://localhost:8080/",
          "height": 34
        },
        "outputId": "018bed7c-3083-42f6-b869-04432dfb7031"
      },
      "source": [
        "for word_num in range(1,vocab_size):\n",
        "  word = reverse_word_index[word_num]\n",
        "  embeddings = weights[word_num]\n",
        "  out_m.write(word+\"\\n\")\n",
        "  out_v.write('\\t'.join([str(x) for x in embeddings])+\"\\n\")\n",
        "out_v.close()\n",
        "out_m.close"
      ],
      "execution_count": 17,
      "outputs": [
        {
          "output_type": "execute_result",
          "data": {
            "text/plain": [
              "<function TextIOWrapper.close>"
            ]
          },
          "metadata": {
            "tags": []
          },
          "execution_count": 17
        }
      ]
    },
    {
      "cell_type": "code",
      "metadata": {
        "id": "twUnvordyxXh",
        "colab_type": "code",
        "colab": {}
      },
      "source": [
        "try :\n",
        "  from google.colab import files \n",
        "except ImportError :\n",
        "  pass\n",
        "else :\n",
        "  files.download('vecs.tsv')\n",
        "  files.download('meta.tsv')\n",
        "#import the file for tensorflow projector website"
      ],
      "execution_count": 0,
      "outputs": []
    },
    {
      "cell_type": "code",
      "metadata": {
        "id": "PPOew5Tk09pE",
        "colab_type": "code",
        "colab": {
          "base_uri": "https://localhost:8080/",
          "height": 34
        },
        "outputId": "ce71d06e-0c7f-4ff3-c1cd-e215acb41a34"
      },
      "source": [
        "def decode_text(text):\n",
        "  return ' '.join([reverse_word_index.get(i, '?') for i in text])"
      ],
      "execution_count": 91,
      "outputs": [
        {
          "output_type": "stream",
          "text": [
            "ERROR! Session/line number was not unique in database. History logging moved to new session 62\n"
          ],
          "name": "stdout"
        }
      ]
    },
    {
      "cell_type": "code",
      "metadata": {
        "id": "xXm1LTS-znmE",
        "colab_type": "code",
        "colab": {
          "base_uri": "https://localhost:8080/",
          "height": 34
        },
        "outputId": "47706cf7-9858-4ded-cc83-4b6bfeaeaf91"
      },
      "source": [
        "reverse_word_index[40]"
      ],
      "execution_count": 98,
      "outputs": [
        {
          "output_type": "execute_result",
          "data": {
            "text/plain": [
              "'oder'"
            ]
          },
          "metadata": {
            "tags": []
          },
          "execution_count": 98
        }
      ]
    },
    {
      "cell_type": "code",
      "metadata": {
        "id": "2w5y_Lz22y-z",
        "colab_type": "code",
        "colab": {
          "base_uri": "https://localhost:8080/",
          "height": 34
        },
        "outputId": "9c3edf6e-071b-41dd-9389-9a7f30e4a355"
      },
      "source": [
        "decode_text([40,300,201])"
      ],
      "execution_count": 108,
      "outputs": [
        {
          "output_type": "execute_result",
          "data": {
            "text/plain": [
              "'oder 00 the'"
            ]
          },
          "metadata": {
            "tags": []
          },
          "execution_count": 108
        }
      ]
    },
    {
      "cell_type": "code",
      "metadata": {
        "id": "SjZuqS_t7pEw",
        "colab_type": "code",
        "colab": {}
      },
      "source": [
        "def encode_text(text):\n",
        "  sequences = tokenizer.texts_to_sequences(text)\n",
        "  pad =pad_sequences(sequences,padding='post',truncating='post',maxlen=max_length)\n",
        "  return pad"
      ],
      "execution_count": 0,
      "outputs": []
    },
    {
      "cell_type": "code",
      "metadata": {
        "id": "2486DVJg5MLk",
        "colab_type": "code",
        "colab": {}
      },
      "source": [
        "def predict():\n",
        "  text_pred=[]\n",
        "  pred= input (\"Enter text  :\")\n",
        "  text_pred.append(pred) \n",
        "  if text_pred != \"\" :\n",
        "    text_pred = encode_text(text_pred)\n",
        "    prediction = model.predict(text_pred)\n",
        "    print(prediction[0])\n",
        "    if np.argmax(prediction[0]) == 2 :\n",
        "      print( \"text about the technical skills\")\n",
        "    elif np.argmax(prediction[0])== 1:\n",
        "      print(\"text about the soft skills\")\n",
        "    else :\n",
        "      print(\"text classify as none  \")"
      ],
      "execution_count": 0,
      "outputs": []
    },
    {
      "cell_type": "code",
      "metadata": {
        "id": "BBhdUaw78lQa",
        "colab_type": "code",
        "colab": {
          "base_uri": "https://localhost:8080/",
          "height": 68
        },
        "outputId": "e347e636-3256-446d-a5ae-f0858a83aee8"
      },
      "source": [
        "predict()"
      ],
      "execution_count": 21,
      "outputs": [
        {
          "output_type": "stream",
          "text": [
            "Enter text  :soziale Kompetenzen \n",
            "[6.6183548e-04 9.8638368e-01 1.2954508e-02]\n",
            "text about the soft skills\n"
          ],
          "name": "stdout"
        }
      ]
    },
    {
      "cell_type": "code",
      "metadata": {
        "id": "bQKXwd3l8vs_",
        "colab_type": "code",
        "colab": {}
      },
      "source": [
        ""
      ],
      "execution_count": 0,
      "outputs": []
    }
  ]
}